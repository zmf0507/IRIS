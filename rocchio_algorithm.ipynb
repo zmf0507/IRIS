{
 "cells": [
  {
   "cell_type": "code",
   "execution_count": 1,
   "metadata": {},
   "outputs": [],
   "source": [
    "from nltk.tokenize import RegexpTokenizer\n",
    "from nltk.tokenize import word_tokenize\n",
    "from nltk.corpus import stopwords\n",
    "from nltk.tokenize import RegexpTokenizer\n",
    "from collections import Counter\n",
    "from nltk.stem import PorterStemmer\n",
    "from bs4 import BeautifulSoup\n",
    "import pickle\n",
    "import os\n",
    "import math\n",
    "from collections import Counter\n",
    "from num2words import num2words\n",
    "import numpy as np\n",
    "import sklearn.metrics.pairwise\n",
    "from sklearn.manifold import TSNE\n",
    "import matplotlib.pyplot as plt\n",
    "ps = PorterStemmer()"
   ]
  },
  {
   "cell_type": "code",
   "execution_count": 2,
   "metadata": {},
   "outputs": [],
   "source": [
    "def removeStopWords(words):\n",
    "    filteredWords = []\n",
    "    stop_words=stopwords.words('english')\n",
    "    for word in words:\n",
    "        if word not in stop_words:\n",
    "            word = ps.stem(word)\n",
    "            filteredWords.append(word)\n",
    "    return filteredWords\n",
    "\n",
    "def loadFromPickle(pickleFile):\n",
    "\tfile = open(pickleFile,'rb')\n",
    "\tpickleData = pickle.load(file)\n",
    "\tfile.close()\n",
    "\treturn pickleData"
   ]
  },
  {
   "cell_type": "code",
   "execution_count": 3,
   "metadata": {},
   "outputs": [],
   "source": [
    "def saveInPickle(data, pickleFile):\n",
    "\tfile = open(pickleFile,\"wb\")\n",
    "\tpickle.dump(data,file)\n",
    "\tfile.close()\n",
    "    \n",
    "def getAllFoldersPath():\n",
    "\tfilesList=[]\n",
    "\tpath=\"stories\"\n",
    "\tfilesList =  [x[0] for x in os.walk(path)]\n",
    "\n",
    "\treturn filesList[1:]\n",
    "\n",
    "def getNumWordFixed(fileContent):\n",
    "    result = []\n",
    "#     fileContent = fileContent.split()\n",
    "    for word in fileContent:\n",
    "            if(word.isnumeric()):\n",
    "                word = num2words(word)\n",
    "                tokenizer=RegexpTokenizer(r'([A-Za-z0-9]+)')\n",
    "                tokensList=tokenizer.tokenize(word)\n",
    "#                 print(tokensList)\n",
    "                result+=tokensList\n",
    "            else:\n",
    "                result.append(word)\n",
    "                \n",
    "    return result"
   ]
  },
  {
   "cell_type": "code",
   "execution_count": 4,
   "metadata": {},
   "outputs": [],
   "source": [
    "def getAllTokens(foldersPathList):\n",
    "    count=0\n",
    "    docIdsSet = []\n",
    "    docWordsDictionary = {}\n",
    "    vocab = []\n",
    "    for folderCount, path in enumerate(foldersPathList):\n",
    "        for r, d, f in os.walk(path):\n",
    "            for file in f:\n",
    "                filePath = os.path.join(r, file)\n",
    "                fileReference = open(filePath, \"r\", encoding = \"ISO-8859-1\")\n",
    "                fileContent=fileReference.read()\n",
    "                fileContent = fileContent.lower()                \n",
    "                tokenizer=RegexpTokenizer(r'([A-Za-z0-9]+)')\n",
    "                tokensList=tokenizer.tokenize(fileContent)\n",
    "                fileContent = getNumWordFixed(tokensList)\n",
    "                filteredWords = removeStopWords(fileContent)\n",
    "                docId = int(file)\n",
    "                docId = docId*100+folderCount\n",
    "#                 folderMap[folderCount] = r\n",
    "                docIdsSet.append(docId)\n",
    "#                 print(filteredWords)\n",
    "                count+=len(filteredWords)\n",
    "                docWordsDictionary[docId] = filteredWords\n",
    "                vocab+=filteredWords\n",
    "#                 print(docWordsDictionary)\n",
    "    return docWordsDictionary, list(set(vocab))"
   ]
  },
  {
   "cell_type": "code",
   "execution_count": 5,
   "metadata": {},
   "outputs": [],
   "source": [
    "foldersPathList = ['20_newsgroups/comp.graphics', '20_newsgroups/sci.med',\n",
    "'20_newsgroups/talk.politics.misc', '20_newsgroups/rec.sport.hockey', '20_newsgroups/sci.space']"
   ]
  },
  {
   "cell_type": "code",
   "execution_count": 18,
   "metadata": {},
   "outputs": [],
   "source": [
    "docWords, vocab = getAllTokens(foldersPathList)"
   ]
  },
  {
   "cell_type": "code",
   "execution_count": 25,
   "metadata": {},
   "outputs": [
    {
     "data": {
      "text/plain": [
       "5000"
      ]
     },
     "execution_count": 25,
     "metadata": {},
     "output_type": "execute_result"
    }
   ],
   "source": [
    "len(docWords)"
   ]
  },
  {
   "cell_type": "code",
   "execution_count": 21,
   "metadata": {},
   "outputs": [],
   "source": [
    "saveInPickle(docWords, \"docWords\")\n",
    "saveInPickle(vocab, \"vocab\")"
   ]
  },
  {
   "cell_type": "code",
   "execution_count": 23,
   "metadata": {},
   "outputs": [],
   "source": [
    "docWords = loadFromPickle(\"docWords\")\n",
    "vocab = loadFromPickle(\"vocab\")"
   ]
  },
  {
   "cell_type": "code",
   "execution_count": 6,
   "metadata": {},
   "outputs": [],
   "source": [
    "def getTfValues(docWords):\n",
    "    tf = {}\n",
    "    count = 0\n",
    "    for doc in docWords:\n",
    "        for word in docWords[doc]:\n",
    "            if word not in tf:\n",
    "                tf[word] = {}\n",
    "            if doc not in tf[word]:\n",
    "                tf[word][doc] = 0\n",
    "            tf[word][doc]+=1\n",
    "    return tf\n",
    "\n",
    "def getIdfVal(idfCount):\n",
    "    N= len(docWords)\n",
    "#     print(N, idfCount)\n",
    "    return math.log(N/(1+idfCount), 10)\n",
    "\n",
    "def tfVariant(freq):\n",
    "    return 1 + math.log(freq, 10)\n",
    "\n",
    "def getIdf(tfValues):\n",
    "    idf = {}\n",
    "    for word in tfValues:\n",
    "        nt = len(tfValues[word])\n",
    "        idf[word] = getIdfVal(nt)\n",
    "    return idf"
   ]
  },
  {
   "cell_type": "code",
   "execution_count": 27,
   "metadata": {},
   "outputs": [],
   "source": [
    "tfValues = getTfValues(docWords)\n",
    "saveInPickle(tfValues, \"tfValues\")"
   ]
  },
  {
   "cell_type": "code",
   "execution_count": 31,
   "metadata": {},
   "outputs": [],
   "source": [
    "idf = getIdf(tfValues)\n",
    "saveInPickle(idf, \"idf\")"
   ]
  },
  {
   "cell_type": "code",
   "execution_count": 32,
   "metadata": {},
   "outputs": [
    {
     "data": {
      "text/plain": [
       "42077"
      ]
     },
     "execution_count": 32,
     "metadata": {},
     "output_type": "execute_result"
    }
   ],
   "source": [
    "len(idf)"
   ]
  },
  {
   "cell_type": "code",
   "execution_count": 11,
   "metadata": {},
   "outputs": [],
   "source": [
    "def preprocesQuery(query):\n",
    "    query = query.lower()\n",
    "    tokenizer=RegexpTokenizer(r'([A-Za-z0-9]+)')\n",
    "    tokensList=tokenizer.tokenize(query)\n",
    "    fileContent = getNumWordFixed(tokensList)\n",
    "    filteredWords = removeStopWords(fileContent)\n",
    "    return filteredWords\n",
    "\n",
    "def checkOutOfVocab(query):\n",
    "    flag = 0\n",
    "    for word in query:\n",
    "        if word not in vocab:\n",
    "            flag = 1\n",
    "            print(\"query word :\", word,\"is out of vocab\")\n",
    "            break\n",
    "    return flag"
   ]
  },
  {
   "cell_type": "code",
   "execution_count": 7,
   "metadata": {},
   "outputs": [],
   "source": [
    "def generateQueryVector(query):\n",
    "    queryVector = []\n",
    "    queryUnique = query     \n",
    "    for word in queryUnique:\n",
    "        if(word in vocab):\n",
    "            tf = 1 + math.log(query.count(word), 10)\n",
    "            tfIdf = tf*idf[word]    \n",
    "        else:\n",
    "            tfIdf = 0\n",
    "        queryVector.append(tfIdf)\n",
    "    return np.array(queryVector)\n",
    "\n",
    "def generateDocVector(query, doc):\n",
    "    docVector = []\n",
    "    for word in query:\n",
    "        sim = 0\n",
    "        if(doc in tfValues[word]):\n",
    "            tfIdf = tfValues[word][doc]*idf[word]\n",
    "        else:\n",
    "            tfIdf = 0\n",
    "        docVector.append(tfIdf)    \n",
    "    return np.array(docVector)\n",
    "\n",
    "def cosineSimilarity(queryVector, docVector):\n",
    "    score = 0\n",
    "    qMod = dMod = 0\n",
    "    for i in range(len(queryVector)):\n",
    "        score+=queryVector[i]*docVector[i]\n",
    "        qMod+=queryVector[i]*queryVector[i]\n",
    "        dMod+=docVector[i]*docVector[i]\n",
    "    if(qMod==0 or dMod==0):\n",
    "        score = 0\n",
    "    else:\n",
    "        qMod = math.sqrt(qMod)\n",
    "        dMod = math.sqrt(dMod)\n",
    "        score = score/(qMod*dMod)\n",
    "    return score"
   ]
  },
  {
   "cell_type": "code",
   "execution_count": 8,
   "metadata": {},
   "outputs": [],
   "source": [
    "def calculateNetScore(queryVector):\n",
    "    docsList = docWords.keys()\n",
    "    scoreDocList = []\n",
    "    docVectors = []\n",
    "    for doc in docsList:\n",
    "        docVector = generateDocVector(queryUnique, doc)\n",
    "        sim = cosineSimilarity(queryVector, docVector)\n",
    "        scoreDocList.append((doc, sim))\n",
    "        \n",
    "    return scoreDocList\n",
    "\n",
    "def getResults(scoreDocList,markedDocs,  k):\n",
    "    docList = []\n",
    "    count = 1\n",
    "    scoreDocList.sort(key = lambda x: x[1], reverse = True)\n",
    "    for item in scoreDocList:\n",
    "        docList.append(item[0])\n",
    "        docId = item[0]\n",
    "        folder = int(docId%100)\n",
    "        docId = int(docId/100)\n",
    "        if item[0] in markedDocs:\n",
    "            print(\"*\", str(count)+\".\", foldersPathList[folder], docId)\n",
    "        else:\n",
    "            print(\" \",str(count)+\".\", foldersPathList[folder], docId)\n",
    "        count+=1\n",
    "        if(count==k+1):\n",
    "            break\n",
    "    return docList"
   ]
  },
  {
   "cell_type": "code",
   "execution_count": 99,
   "metadata": {},
   "outputs": [],
   "source": [
    "def markDocuments(docList):\n",
    "    print(\"\\n Mark relevant docs in the above result--- enter comma separated document serial numbers from above results\")\n",
    "    print(\"\\n eg. 1,7,24,35,39,47,48 \")\n",
    "    relevantDocs = []  \n",
    "    markedDocs = input()\n",
    "    markedDocs = markedDocs.split(\",\")\n",
    "    for i in range(len(markedDocs)):\n",
    "        relevantDocs.append(docList[int(markedDocs[i])-1]) \n",
    "    \n",
    "    print(\"\\nMarked Documents\\n\")\n",
    "\n",
    "    for item in relevantDocs:\n",
    "        docId = item\n",
    "        folder = int(docId%100)\n",
    "        docId = int(docId/100)\n",
    "        print(foldersPathList[folder], docId)\n",
    "    print(\"\\n\\n\")\n",
    "    return relevantDocs\n",
    "\n",
    "def refineQuery(queryVector,docList, markedDocs):\n",
    "    alpha = 1\n",
    "    beta = 0.75\n",
    "    gamma = 0.25\n",
    "    relevantVector = np.zeros(shape=(len(queryVector, )))\n",
    "    nonRelVector = np.zeros(shape=(len(queryVector,)))\n",
    "    \n",
    "    for doc in docList:\n",
    "        docVector = generateDocVector(queryUnique, doc)\n",
    "        if doc in markedDocs:\n",
    "            relevantVector = np.add(relevantVector, np.array(docVector))\n",
    "        else:\n",
    "            nonRelVector = np.add(nonRelVector, np.array(docVector))\n",
    "    \n",
    "    relevantVector/=len(markedDocs)\n",
    "    nonRelVector/=(len(docList) - len(markedDocs))\n",
    "    \n",
    "    queryVector = alpha*queryVector + beta*relevantVector - gamma*nonRelVector\n",
    "#     print(queryVector)\n",
    "    queryVector = queryVector.clip(min=0)\n",
    "\n",
    "    return queryVector"
   ]
  },
  {
   "cell_type": "code",
   "execution_count": 10,
   "metadata": {},
   "outputs": [],
   "source": [
    "#######--------------------loading data from pickle-----------------------------------------------------\n",
    "docWords = loadFromPickle(\"docWords\")\n",
    "vocab = loadFromPickle(\"vocab\")\n",
    "idf = loadFromPickle(\"idf\")\n",
    "tfValues = loadFromPickle(\"tfValues\")"
   ]
  },
  {
   "cell_type": "code",
   "execution_count": 2,
   "metadata": {},
   "outputs": [
    {
     "name": "stdout",
     "output_type": "stream",
     "text": [
      "Enter the number of queries you wish to retrieve results for : 1\n",
      "enter the query1 : Pretty good opinions on biochemistry machines\n"
     ]
    },
    {
     "ename": "NameError",
     "evalue": "name 'preprocesQuery' is not defined",
     "output_type": "error",
     "traceback": [
      "\u001b[0;31m---------------------------------------------------------------------------\u001b[0m",
      "\u001b[0;31mNameError\u001b[0m                                 Traceback (most recent call last)",
      "\u001b[0;32m<ipython-input-2-b1ec93b33b71>\u001b[0m in \u001b[0;36m<module>\u001b[0;34m\u001b[0m\n\u001b[1;32m      8\u001b[0m \u001b[0;32mfor\u001b[0m \u001b[0mi\u001b[0m \u001b[0;32min\u001b[0m \u001b[0mrange\u001b[0m\u001b[0;34m(\u001b[0m\u001b[0mnq\u001b[0m\u001b[0;34m)\u001b[0m\u001b[0;34m:\u001b[0m\u001b[0;34m\u001b[0m\u001b[0m\n\u001b[1;32m      9\u001b[0m     \u001b[0mquery\u001b[0m \u001b[0;34m=\u001b[0m \u001b[0minput\u001b[0m\u001b[0;34m(\u001b[0m\u001b[0;34m\"enter the query\"\u001b[0m\u001b[0;34m+\u001b[0m\u001b[0mstr\u001b[0m\u001b[0;34m(\u001b[0m\u001b[0mi\u001b[0m\u001b[0;34m+\u001b[0m\u001b[0;36m1\u001b[0m\u001b[0;34m)\u001b[0m\u001b[0;34m+\u001b[0m\u001b[0;34m\" : \"\u001b[0m\u001b[0;34m)\u001b[0m\u001b[0;34m\u001b[0m\u001b[0m\n\u001b[0;32m---> 10\u001b[0;31m     \u001b[0mquery\u001b[0m \u001b[0;34m=\u001b[0m \u001b[0mpreprocesQuery\u001b[0m\u001b[0;34m(\u001b[0m\u001b[0mquery\u001b[0m\u001b[0;34m)\u001b[0m\u001b[0;34m\u001b[0m\u001b[0m\n\u001b[0m\u001b[1;32m     11\u001b[0m     \u001b[0;32mif\u001b[0m\u001b[0;34m(\u001b[0m\u001b[0mcheckOutOfVocab\u001b[0m\u001b[0;34m(\u001b[0m\u001b[0mquery\u001b[0m\u001b[0;34m)\u001b[0m\u001b[0;34m==\u001b[0m\u001b[0;36m1\u001b[0m\u001b[0;34m)\u001b[0m\u001b[0;34m:\u001b[0m\u001b[0;34m\u001b[0m\u001b[0m\n\u001b[1;32m     12\u001b[0m         \u001b[0mprint\u001b[0m\u001b[0;34m(\u001b[0m\u001b[0;34m\"Aaah!! This query contains word that are out of vocab. Try again!\"\u001b[0m\u001b[0;34m)\u001b[0m\u001b[0;34m\u001b[0m\u001b[0m\n",
      "\u001b[0;31mNameError\u001b[0m: name 'preprocesQuery' is not defined"
     ]
    }
   ],
   "source": [
    "###########---------------query input ----------------\n",
    "### multiple queries can be input at once or single as well. The values of K and n(iterations) will\n",
    "### remain same for all queries . Best of luck!!!\n",
    "\n",
    "nq = int(input(\"Enter the number of queries you wish to retrieve results for : \"))\n",
    "queries = []\n",
    "groundTruth = []\n",
    "for i in range(nq):\n",
    "    query = input(\"enter the query\"+str(i+1)+\" : \")\n",
    "    query = preprocesQuery(query)\n",
    "    if(checkOutOfVocab(query)==1):\n",
    "        print(\"Aaah!! This query contains word that are out of vocab. Try again!\")\n",
    "        pass\n",
    "    queries.append(query)\n",
    "    truth = input(\"enter the ground truth folder for this query : (eg. sci.med , sci.space, comp.graphics etc)\")\n",
    "    groundTruth.append(truth)\n",
    "\n",
    "k = int(input(\"enter the value of k for this query:\"))\n",
    "n = int(input(\"enter the number of iterations\"))\n",
    "autoTrue = int(input(\"Enter 1 for automating p% of Top k docs marking process , Enter 2 for manual doc marking\"))\n",
    "if(autoTrue==1):\n",
    "    p = int(input(\"Enter the value of p (for marking p% of top K docs)\"))"
   ]
  },
  {
   "cell_type": "code",
   "execution_count": 179,
   "metadata": {},
   "outputs": [
    {
     "data": {
      "text/plain": [
       "[['pretti', 'good', 'opinion', 'biochemistri', 'machin']]"
      ]
     },
     "execution_count": 179,
     "metadata": {},
     "output_type": "execute_result"
    }
   ],
   "source": [
    "####### check pre-processed queries before proceeding\n",
    "queries"
   ]
  },
  {
   "cell_type": "code",
   "execution_count": 24,
   "metadata": {},
   "outputs": [],
   "source": [
    "##### run ; for bold text\n",
    "from IPython.display import Markdown, display\n",
    "def printmd(string):\n",
    "    display(Markdown(string))\n",
    "    "
   ]
  },
  {
   "cell_type": "code",
   "execution_count": 180,
   "metadata": {},
   "outputs": [],
   "source": [
    "def getQueryPrecisionRecall(resultDoc, groundTruthFolder):\n",
    "    truthPath = '20_newsgroups/'+groundTruthFolder\n",
    "    precisionk = []\n",
    "    recallk = []\n",
    "    relCount = 0\n",
    "    nonRelCount = 0\n",
    "    total = 0\n",
    "    meanap=0\n",
    "    for doc in resultDoc:\n",
    "        folderId = doc%100\n",
    "        \n",
    "        if(foldersPathList[folderId]==truthPath):\n",
    "            relCount+=1\n",
    "        total+=1\n",
    "        precision = relCount/total\n",
    "        if(foldersPathList[folderId]==truthPath):\n",
    "            meanap+=precision\n",
    "        recall = relCount/1000\n",
    "        precisionk.append(precision)\n",
    "        recallk.append(recall)\n",
    "\n",
    "    evalDict = {\"precision\":precisionk, \"recall\":recallk, \"map\":meanap/k}\n",
    "    return evalDict\n",
    "            \n"
   ]
  },
  {
   "cell_type": "code",
   "execution_count": 195,
   "metadata": {},
   "outputs": [],
   "source": [
    "precisions = []\n",
    "recalls = []\n",
    "maps = []\n",
    "queryVectors = []\n",
    "tsne = {} "
   ]
  },
  {
   "cell_type": "code",
   "execution_count": null,
   "metadata": {},
   "outputs": [
    {
     "data": {
      "text/markdown": [
       "\n",
       "**----------------------QUERY1-------------------------------**\n"
      ],
      "text/plain": [
       "<IPython.core.display.Markdown object>"
      ]
     },
     "metadata": {},
     "output_type": "display_data"
    },
    {
     "name": "stdout",
     "output_type": "stream",
     "text": [
      "  1. 20_newsgroups/comp.graphics 38523\n",
      "  2. 20_newsgroups/sci.med 59488\n",
      "  3. 20_newsgroups/sci.med 59207\n",
      "  4. 20_newsgroups/sci.med 59233\n",
      "  5. 20_newsgroups/sci.med 59183\n",
      "  6. 20_newsgroups/sci.med 59165\n",
      "  7. 20_newsgroups/sci.med 59632\n",
      "  8. 20_newsgroups/sci.med 59400\n",
      "  9. 20_newsgroups/sci.med 59323\n",
      "  10. 20_newsgroups/sci.med 59548\n",
      "  11. 20_newsgroups/sci.med 59116\n",
      "  12. 20_newsgroups/sci.med 58872\n",
      "  13. 20_newsgroups/sci.med 59602\n",
      "  14. 20_newsgroups/sci.med 58082\n",
      "  15. 20_newsgroups/sci.med 58987\n",
      "  16. 20_newsgroups/comp.graphics 38597\n",
      "  17. 20_newsgroups/sci.med 59504\n",
      "  18. 20_newsgroups/sci.med 59518\n",
      "  19. 20_newsgroups/sci.med 58813\n",
      "  20. 20_newsgroups/sci.med 59154\n",
      "  21. 20_newsgroups/comp.graphics 38669\n",
      "  22. 20_newsgroups/talk.politics.misc 178653\n",
      "  23. 20_newsgroups/comp.graphics 37922\n",
      "  24. 20_newsgroups/talk.politics.misc 178493\n",
      "  25. 20_newsgroups/talk.politics.misc 176953\n",
      "  26. 20_newsgroups/sci.med 59393\n",
      "  27. 20_newsgroups/comp.graphics 38257\n",
      "  28. 20_newsgroups/sci.med 59083\n",
      "  29. 20_newsgroups/comp.graphics 38543\n",
      "  30. 20_newsgroups/sci.med 59115\n",
      "  31. 20_newsgroups/rec.sport.hockey 53554\n",
      "  32. 20_newsgroups/rec.sport.hockey 53646\n",
      "  33. 20_newsgroups/sci.space 62104\n",
      "  34. 20_newsgroups/sci.med 58568\n",
      "  35. 20_newsgroups/talk.politics.misc 177004\n",
      "  36. 20_newsgroups/sci.med 58953\n",
      "  37. 20_newsgroups/comp.graphics 38774\n",
      "  38. 20_newsgroups/comp.graphics 38861\n",
      "  39. 20_newsgroups/comp.graphics 38959\n",
      "  40. 20_newsgroups/comp.graphics 38392\n",
      "  41. 20_newsgroups/sci.med 58152\n",
      "  42. 20_newsgroups/comp.graphics 38753\n",
      "  43. 20_newsgroups/talk.politics.misc 176910\n",
      "  44. 20_newsgroups/comp.graphics 38452\n",
      "  45. 20_newsgroups/comp.graphics 39078\n",
      "  46. 20_newsgroups/comp.graphics 38403\n",
      "  47. 20_newsgroups/comp.graphics 39638\n",
      "  48. 20_newsgroups/talk.politics.misc 176873\n",
      "  49. 20_newsgroups/talk.politics.misc 176929\n",
      "  50. 20_newsgroups/rec.sport.hockey 53692\n",
      "  51. 20_newsgroups/comp.graphics 38778\n",
      "  52. 20_newsgroups/sci.med 59238\n",
      "  53. 20_newsgroups/comp.graphics 38770\n",
      "  54. 20_newsgroups/talk.politics.misc 179106\n",
      "  55. 20_newsgroups/sci.space 61309\n",
      "  56. 20_newsgroups/sci.med 59043\n",
      "  57. 20_newsgroups/talk.politics.misc 178335\n",
      "  58. 20_newsgroups/comp.graphics 38853\n",
      "  59. 20_newsgroups/comp.graphics 38376\n",
      "  60. 20_newsgroups/talk.politics.misc 176874\n",
      "  61. 20_newsgroups/sci.space 61253\n",
      "  62. 20_newsgroups/rec.sport.hockey 54725\n",
      "  63. 20_newsgroups/sci.space 61454\n",
      "  64. 20_newsgroups/rec.sport.hockey 54250\n",
      "  65. 20_newsgroups/talk.politics.misc 178528\n",
      "  66. 20_newsgroups/rec.sport.hockey 53524\n",
      "  67. 20_newsgroups/rec.sport.hockey 52552\n",
      "  68. 20_newsgroups/talk.politics.misc 176993\n",
      "  69. 20_newsgroups/rec.sport.hockey 52565\n",
      "  70. 20_newsgroups/talk.politics.misc 177002\n",
      "  71. 20_newsgroups/sci.med 59225\n",
      "  72. 20_newsgroups/rec.sport.hockey 53973\n",
      "  73. 20_newsgroups/sci.space 62386\n",
      "  74. 20_newsgroups/talk.politics.misc 176943\n",
      "  75. 20_newsgroups/comp.graphics 38304\n",
      "  76. 20_newsgroups/sci.med 59301\n",
      "  77. 20_newsgroups/sci.med 59071\n",
      "  78. 20_newsgroups/sci.space 60950\n",
      "  79. 20_newsgroups/talk.politics.misc 179091\n",
      "  80. 20_newsgroups/comp.graphics 38933\n",
      "  81. 20_newsgroups/rec.sport.hockey 53468\n",
      "  82. 20_newsgroups/comp.graphics 39062\n",
      "  83. 20_newsgroups/talk.politics.misc 178903\n",
      "  84. 20_newsgroups/sci.med 59063\n",
      "  85. 20_newsgroups/talk.politics.misc 178313\n",
      "  86. 20_newsgroups/rec.sport.hockey 53998\n",
      "  87. 20_newsgroups/talk.politics.misc 178302\n",
      "  88. 20_newsgroups/comp.graphics 38852\n",
      "  89. 20_newsgroups/comp.graphics 38375\n",
      "  90. 20_newsgroups/talk.politics.misc 178894\n",
      "  91. 20_newsgroups/comp.graphics 38554\n",
      "  92. 20_newsgroups/talk.politics.misc 178422\n",
      "  93. 20_newsgroups/rec.sport.hockey 53791\n",
      "  94. 20_newsgroups/rec.sport.hockey 54050\n",
      "  95. 20_newsgroups/sci.med 59308\n",
      "  96. 20_newsgroups/sci.space 61435\n",
      "  97. 20_newsgroups/comp.graphics 38742\n",
      "  98. 20_newsgroups/rec.sport.hockey 53827\n",
      "  99. 20_newsgroups/comp.graphics 38851\n",
      "  100. 20_newsgroups/comp.graphics 38377\n"
     ]
    },
    {
     "data": {
      "text/markdown": [
       "\n",
       "\n",
       "\n",
       "**---------------QUERY1 : Iteration1 begins------------------**\n"
      ],
      "text/plain": [
       "<IPython.core.display.Markdown object>"
      ]
     },
     "metadata": {},
     "output_type": "display_data"
    },
    {
     "name": "stdout",
     "output_type": "stream",
     "text": [
      "\n",
      " Mark relevant docs in the above result--- enter comma separated document serial numbers from above results\n",
      "\n",
      " eg. 1,3,4,5,6,7 \n",
      "95\n",
      "\n",
      "Marked Documents\n",
      "\n",
      "20_newsgroups/sci.med 59308\n",
      "\n",
      "\n",
      "\n"
     ]
    },
    {
     "data": {
      "text/markdown": [
       "\n",
       "**---------------Results------------------**\n"
      ],
      "text/plain": [
       "<IPython.core.display.Markdown object>"
      ]
     },
     "metadata": {},
     "output_type": "display_data"
    },
    {
     "name": "stdout",
     "output_type": "stream",
     "text": [
      "  1. 20_newsgroups/sci.med 59154\n",
      "  2. 20_newsgroups/comp.graphics 38523\n",
      "  3. 20_newsgroups/sci.med 59393\n",
      "  4. 20_newsgroups/sci.med 58953\n",
      "  5. 20_newsgroups/comp.graphics 38853\n",
      "  6. 20_newsgroups/comp.graphics 38376\n",
      "  7. 20_newsgroups/sci.med 58568\n",
      "  8. 20_newsgroups/comp.graphics 39078\n",
      "  9. 20_newsgroups/comp.graphics 38403\n",
      "  10. 20_newsgroups/comp.graphics 39638\n",
      "  11. 20_newsgroups/comp.graphics 38774\n",
      "  12. 20_newsgroups/comp.graphics 38861\n",
      "  13. 20_newsgroups/comp.graphics 38959\n",
      "  14. 20_newsgroups/comp.graphics 38392\n",
      "  15. 20_newsgroups/sci.med 59301\n",
      "  16. 20_newsgroups/comp.graphics 38852\n",
      "  17. 20_newsgroups/comp.graphics 38375\n",
      "  18. 20_newsgroups/talk.politics.misc 178894\n",
      "* 19. 20_newsgroups/sci.med 59308\n",
      "  20. 20_newsgroups/sci.space 61435\n",
      "  21. 20_newsgroups/comp.graphics 38304\n",
      "  22. 20_newsgroups/comp.graphics 38778\n",
      "  23. 20_newsgroups/comp.graphics 38851\n",
      "  24. 20_newsgroups/comp.graphics 38377\n",
      "  25. 20_newsgroups/talk.politics.misc 176936\n",
      "  26. 20_newsgroups/sci.med 59071\n",
      "  27. 20_newsgroups/sci.space 60950\n",
      "  28. 20_newsgroups/talk.politics.misc 179091\n",
      "  29. 20_newsgroups/comp.graphics 38933\n",
      "  30. 20_newsgroups/rec.sport.hockey 53468\n",
      "  31. 20_newsgroups/comp.graphics 39062\n",
      "  32. 20_newsgroups/talk.politics.misc 178903\n",
      "  33. 20_newsgroups/sci.med 59063\n",
      "  34. 20_newsgroups/sci.space 61253\n",
      "  35. 20_newsgroups/comp.graphics 38669\n",
      "  36. 20_newsgroups/talk.politics.misc 178653\n",
      "  37. 20_newsgroups/comp.graphics 37922\n",
      "  38. 20_newsgroups/sci.space 62104\n",
      "  39. 20_newsgroups/sci.med 59060\n",
      "  40. 20_newsgroups/comp.graphics 38994\n",
      "  41. 20_newsgroups/rec.sport.hockey 54478\n",
      "  42. 20_newsgroups/comp.graphics 38341\n",
      "  43. 20_newsgroups/comp.graphics 38915\n",
      "  44. 20_newsgroups/sci.med 59478\n",
      "  45. 20_newsgroups/sci.med 58577\n",
      "  46. 20_newsgroups/talk.politics.misc 178754\n",
      "  47. 20_newsgroups/comp.graphics 39081\n",
      "  48. 20_newsgroups/comp.graphics 37935\n",
      "  49. 20_newsgroups/comp.graphics 38837\n",
      "  50. 20_newsgroups/comp.graphics 39001\n",
      "  51. 20_newsgroups/sci.space 61039\n",
      "  52. 20_newsgroups/sci.space 60877\n",
      "  53. 20_newsgroups/comp.graphics 38431\n",
      "  54. 20_newsgroups/comp.graphics 38677\n",
      "  55. 20_newsgroups/comp.graphics 38924\n",
      "  56. 20_newsgroups/talk.politics.misc 179090\n",
      "  57. 20_newsgroups/sci.space 61371\n",
      "  58. 20_newsgroups/rec.sport.hockey 53835\n",
      "  59. 20_newsgroups/comp.graphics 38845\n",
      "  60. 20_newsgroups/comp.graphics 39644\n",
      "  61. 20_newsgroups/comp.graphics 38438\n",
      "  62. 20_newsgroups/talk.politics.misc 178905\n",
      "  63. 20_newsgroups/rec.sport.hockey 54168\n",
      "  64. 20_newsgroups/rec.sport.hockey 53677\n",
      "  65. 20_newsgroups/comp.graphics 38932\n",
      "  66. 20_newsgroups/comp.graphics 37949\n",
      "  67. 20_newsgroups/comp.graphics 38738\n",
      "  68. 20_newsgroups/sci.space 60888\n",
      "  69. 20_newsgroups/comp.graphics 38442\n",
      "  70. 20_newsgroups/comp.graphics 38524\n",
      "  71. 20_newsgroups/comp.graphics 38362\n",
      "  72. 20_newsgroups/talk.politics.misc 178366\n",
      "  73. 20_newsgroups/rec.sport.hockey 54097\n",
      "  74. 20_newsgroups/comp.graphics 38726\n",
      "  75. 20_newsgroups/comp.graphics 38908\n",
      "  76. 20_newsgroups/sci.med 58850\n",
      "  77. 20_newsgroups/comp.graphics 38698\n",
      "  78. 20_newsgroups/comp.graphics 37961\n",
      "  79. 20_newsgroups/talk.politics.misc 178373\n",
      "  80. 20_newsgroups/sci.space 61146\n",
      "  81. 20_newsgroups/sci.med 59017\n",
      "  82. 20_newsgroups/comp.graphics 38538\n",
      "  83. 20_newsgroups/rec.sport.hockey 53612\n",
      "  84. 20_newsgroups/rec.sport.hockey 52630\n",
      "  85. 20_newsgroups/comp.graphics 38458\n",
      "  86. 20_newsgroups/sci.space 61068\n",
      "  87. 20_newsgroups/comp.graphics 39033\n",
      "  88. 20_newsgroups/talk.politics.misc 179017\n",
      "  89. 20_newsgroups/talk.politics.misc 178717\n",
      "  90. 20_newsgroups/sci.med 59117\n",
      "  91. 20_newsgroups/sci.space 61329\n",
      "  92. 20_newsgroups/comp.graphics 38803\n",
      "  93. 20_newsgroups/comp.graphics 38730\n",
      "  94. 20_newsgroups/sci.med 58956\n",
      "  95. 20_newsgroups/comp.graphics 38395\n",
      "  96. 20_newsgroups/rec.sport.hockey 54534\n",
      "  97. 20_newsgroups/talk.politics.misc 178480\n",
      "  98. 20_newsgroups/sci.space 62400\n",
      "  99. 20_newsgroups/rec.sport.hockey 52653\n",
      "  100. 20_newsgroups/comp.graphics 38400\n"
     ]
    },
    {
     "data": {
      "text/markdown": [
       "\n",
       "\n",
       "\n",
       "**---------------QUERY1 : Iteration2 begins------------------**\n"
      ],
      "text/plain": [
       "<IPython.core.display.Markdown object>"
      ]
     },
     "metadata": {},
     "output_type": "display_data"
    },
    {
     "name": "stdout",
     "output_type": "stream",
     "text": [
      "\n",
      " Mark relevant docs in the above result--- enter comma separated document serial numbers from above results\n",
      "\n",
      " eg. 1,3,4,5,6,7 \n",
      "94\n",
      "\n",
      "Marked Documents\n",
      "\n",
      "20_newsgroups/sci.med 58956\n",
      "\n",
      "\n",
      "\n"
     ]
    },
    {
     "data": {
      "text/markdown": [
       "\n",
       "**---------------Results------------------**\n"
      ],
      "text/plain": [
       "<IPython.core.display.Markdown object>"
      ]
     },
     "metadata": {},
     "output_type": "display_data"
    },
    {
     "name": "stdout",
     "output_type": "stream",
     "text": [
      "  1. 20_newsgroups/sci.med 59154\n",
      "  2. 20_newsgroups/comp.graphics 38523\n",
      "  3. 20_newsgroups/sci.med 58953\n",
      "  4. 20_newsgroups/sci.med 59393\n",
      "  5. 20_newsgroups/comp.graphics 38853\n",
      "  6. 20_newsgroups/comp.graphics 38376\n",
      "  7. 20_newsgroups/sci.med 58568\n",
      "  8. 20_newsgroups/sci.med 59301\n",
      "  9. 20_newsgroups/comp.graphics 38774\n",
      "  10. 20_newsgroups/comp.graphics 38861\n",
      "  11. 20_newsgroups/comp.graphics 38959\n",
      "  12. 20_newsgroups/comp.graphics 38392\n",
      "  13. 20_newsgroups/comp.graphics 38304\n",
      "  14. 20_newsgroups/sci.med 59308\n",
      "  15. 20_newsgroups/sci.space 61435\n",
      "  16. 20_newsgroups/comp.graphics 38851\n",
      "  17. 20_newsgroups/comp.graphics 38377\n",
      "  18. 20_newsgroups/talk.politics.misc 176936\n",
      "  19. 20_newsgroups/sci.space 61253\n",
      "  20. 20_newsgroups/comp.graphics 38852\n",
      "  21. 20_newsgroups/comp.graphics 38375\n",
      "  22. 20_newsgroups/talk.politics.misc 178894\n",
      "  23. 20_newsgroups/comp.graphics 39078\n",
      "  24. 20_newsgroups/comp.graphics 38403\n",
      "  25. 20_newsgroups/comp.graphics 39638\n",
      "  26. 20_newsgroups/sci.med 59071\n",
      "  27. 20_newsgroups/sci.space 60950\n",
      "  28. 20_newsgroups/talk.politics.misc 179091\n",
      "  29. 20_newsgroups/comp.graphics 38933\n",
      "  30. 20_newsgroups/rec.sport.hockey 53468\n",
      "  31. 20_newsgroups/comp.graphics 39062\n",
      "  32. 20_newsgroups/talk.politics.misc 178903\n",
      "  33. 20_newsgroups/sci.med 59063\n",
      "  34. 20_newsgroups/comp.graphics 38994\n",
      "  35. 20_newsgroups/rec.sport.hockey 54478\n",
      "  36. 20_newsgroups/comp.graphics 38341\n",
      "  37. 20_newsgroups/comp.graphics 38915\n",
      "  38. 20_newsgroups/sci.med 59478\n",
      "  39. 20_newsgroups/sci.med 58577\n",
      "  40. 20_newsgroups/talk.politics.misc 178754\n",
      "  41. 20_newsgroups/comp.graphics 39081\n",
      "  42. 20_newsgroups/comp.graphics 37935\n",
      "  43. 20_newsgroups/comp.graphics 38837\n",
      "  44. 20_newsgroups/comp.graphics 39001\n",
      "  45. 20_newsgroups/sci.space 61039\n",
      "  46. 20_newsgroups/sci.space 60877\n",
      "  47. 20_newsgroups/comp.graphics 38431\n",
      "  48. 20_newsgroups/comp.graphics 38677\n",
      "  49. 20_newsgroups/comp.graphics 38924\n",
      "  50. 20_newsgroups/talk.politics.misc 179090\n",
      "  51. 20_newsgroups/sci.space 61371\n",
      "  52. 20_newsgroups/rec.sport.hockey 53835\n",
      "  53. 20_newsgroups/comp.graphics 38845\n",
      "  54. 20_newsgroups/comp.graphics 39644\n",
      "  55. 20_newsgroups/comp.graphics 38438\n",
      "  56. 20_newsgroups/talk.politics.misc 178905\n",
      "  57. 20_newsgroups/rec.sport.hockey 54168\n",
      "  58. 20_newsgroups/rec.sport.hockey 53677\n",
      "  59. 20_newsgroups/comp.graphics 38932\n",
      "  60. 20_newsgroups/comp.graphics 37949\n",
      "  61. 20_newsgroups/comp.graphics 38738\n",
      "  62. 20_newsgroups/sci.space 60888\n",
      "  63. 20_newsgroups/comp.graphics 38442\n",
      "  64. 20_newsgroups/comp.graphics 38524\n",
      "  65. 20_newsgroups/comp.graphics 38362\n",
      "  66. 20_newsgroups/talk.politics.misc 178366\n",
      "  67. 20_newsgroups/rec.sport.hockey 54097\n",
      "  68. 20_newsgroups/comp.graphics 38726\n",
      "  69. 20_newsgroups/comp.graphics 38908\n",
      "  70. 20_newsgroups/sci.med 58850\n",
      "  71. 20_newsgroups/comp.graphics 38698\n",
      "  72. 20_newsgroups/comp.graphics 37961\n",
      "  73. 20_newsgroups/talk.politics.misc 178373\n",
      "  74. 20_newsgroups/sci.space 61146\n",
      "  75. 20_newsgroups/sci.med 59017\n",
      "  76. 20_newsgroups/comp.graphics 38538\n",
      "  77. 20_newsgroups/rec.sport.hockey 53612\n",
      "  78. 20_newsgroups/rec.sport.hockey 52630\n",
      "  79. 20_newsgroups/comp.graphics 38458\n",
      "  80. 20_newsgroups/sci.space 61068\n",
      "  81. 20_newsgroups/comp.graphics 39033\n",
      "  82. 20_newsgroups/talk.politics.misc 179017\n",
      "  83. 20_newsgroups/talk.politics.misc 178717\n",
      "  84. 20_newsgroups/sci.med 59117\n",
      "  85. 20_newsgroups/sci.space 61329\n",
      "  86. 20_newsgroups/comp.graphics 38803\n",
      "  87. 20_newsgroups/comp.graphics 38730\n",
      "* 88. 20_newsgroups/sci.med 58956\n",
      "  89. 20_newsgroups/comp.graphics 38395\n",
      "  90. 20_newsgroups/rec.sport.hockey 54534\n",
      "  91. 20_newsgroups/talk.politics.misc 178480\n",
      "  92. 20_newsgroups/sci.space 62400\n",
      "  93. 20_newsgroups/rec.sport.hockey 52653\n",
      "  94. 20_newsgroups/comp.graphics 38400\n",
      "  95. 20_newsgroups/sci.med 58801\n",
      "  96. 20_newsgroups/comp.graphics 38649\n",
      "  97. 20_newsgroups/comp.graphics 39059\n",
      "  98. 20_newsgroups/comp.graphics 38650\n",
      "  99. 20_newsgroups/comp.graphics 38732\n",
      "  100. 20_newsgroups/comp.graphics 39061\n"
     ]
    },
    {
     "data": {
      "text/markdown": [
       "\n",
       "\n",
       "\n",
       "**---------------QUERY1 : Iteration3 begins------------------**\n"
      ],
      "text/plain": [
       "<IPython.core.display.Markdown object>"
      ]
     },
     "metadata": {},
     "output_type": "display_data"
    },
    {
     "name": "stdout",
     "output_type": "stream",
     "text": [
      "\n",
      " Mark relevant docs in the above result--- enter comma separated document serial numbers from above results\n",
      "\n",
      " eg. 1,3,4,5,6,7 \n"
     ]
    }
   ],
   "source": [
    "####------- query relevance feedback --------------------------------- \n",
    "\n",
    "for i in range(nq):\n",
    "    printmd(\"\\n**----------------------QUERY\"+str(i+1)+\"-------------------------------**\\n\")\n",
    "    queryUnique = list(set(queries[i])) \n",
    "    queryVector = generateQueryVector(queryUnique)\n",
    "    markedDocs = []\n",
    "    qVectors = []\n",
    "    precision = []\n",
    "    recall = []\n",
    "    meanap = []\n",
    "    tsne[i] = [queryUnique]\n",
    "    scoreDocList = calculateNetScore(queryVector)\n",
    "    resultDoc = getResults(scoreDocList, markedDocs, k)\n",
    "    tsne[i].append((queryVector,resultDoc))\n",
    "    \n",
    "    evalDict = getQueryPrecisionRecall(resultDoc, groundTruth[i])\n",
    "    precision.append(evalDict[\"precision\"])\n",
    "    recall.append(evalDict[\"recall\"])\n",
    "    meanap.append(evalDict[\"map\"])\n",
    "    \n",
    "    for j in range(n):\n",
    "        printmd(\"\\n\\n\\n**---------------QUERY\"+str(i+1)+\" : Iteration\"+str(j+1)+\" begins------------------**\\n\")\n",
    "        markedDocs = markDocuments(resultDoc)\n",
    "        queryVector = refineQuery(queryVector, resultDoc, markedDocs)\n",
    "        qVectors.append(queryVector)\n",
    "        scoreDocList = calculateNetScore(queryVector)\n",
    "        printmd(\"\\n**---------------Results------------------**\\n\")\n",
    "        resultDoc = getResults(scoreDocList, markedDocs, k)\n",
    "        evalDict = getQueryPrecisionRecall(resultDoc, groundTruth[i])\n",
    "        precision.append(evalDict[\"precision\"])\n",
    "        recall.append(evalDict[\"recall\"])\n",
    "        meanap.append(evalDict[\"map\"])\n",
    "        tsne[i].append((queryVector,resultDoc))\n",
    "\n",
    "    topDocVector = generateDocVector(queryUnique, resultDoc[0])\n",
    "    qVectors.append(topDocVector)\n",
    "    precisions.append(precision)\n",
    "    recalls.append(recall)\n",
    "    maps.append(meanap)\n",
    "    queryVectors.append(qVectors)\n",
    "    \n",
    "    if(i<=n-2 and nq>1):\n",
    "        text = input(\"Press Enter to continue for next query\")  # or raw_input in python2\n",
    "\n"
   ]
  },
  {
   "cell_type": "code",
   "execution_count": 191,
   "metadata": {},
   "outputs": [],
   "source": [
    "##### plotting Precision, recall\n",
    "def plotPRcurve(precisions, recalls):\n",
    "    for i in range(nq):\n",
    "        printmd(\"\\n**---------------QUERY\"+str(i+1)+\"------------------**\\n\")\n",
    "        for j in range(n):\n",
    "            printmd(\"\\n**---------------Iteration\"+str(j+1)+\"------------------**\\n\")\n",
    "            plt.figure()\n",
    "            plt.plot(precisions[i][j], recalls[i][j])\n",
    "            # Show/save figure as desired.\n",
    "            plt.show()\n",
    "            plt.pause(0.05)\n",
    "        print(\"\\n\")"
   ]
  },
  {
   "cell_type": "code",
   "execution_count": 193,
   "metadata": {},
   "outputs": [
    {
     "data": {
      "text/markdown": [
       "\n",
       "**---------------QUERY1------------------**\n"
      ],
      "text/plain": [
       "<IPython.core.display.Markdown object>"
      ]
     },
     "metadata": {},
     "output_type": "display_data"
    },
    {
     "data": {
      "text/markdown": [
       "\n",
       "**---------------Iteration1------------------**\n"
      ],
      "text/plain": [
       "<IPython.core.display.Markdown object>"
      ]
     },
     "metadata": {},
     "output_type": "display_data"
    },
    {
     "data": {
      "image/png": "[encoded data removed]",
      "text/plain": [
       "<Figure size 432x288 with 1 Axes>"
      ]
     },
     "metadata": {
      "needs_background": "light"
     },
     "output_type": "display_data"
    },
    {
     "data": {
      "text/markdown": [
       "\n",
       "**---------------Iteration2------------------**\n"
      ],
      "text/plain": [
       "<IPython.core.display.Markdown object>"
      ]
     },
     "metadata": {},
     "output_type": "display_data"
    },
    {
     "data": {
      "image/png": "[encoded data removed]",
      "text/plain": [
       "<Figure size 432x288 with 1 Axes>"
      ]
     },
     "metadata": {
      "needs_background": "light"
     },
     "output_type": "display_data"
    },
    {
     "data": {
      "text/markdown": [
       "\n",
       "**---------------Iteration3------------------**\n"
      ],
      "text/plain": [
       "<IPython.core.display.Markdown object>"
      ]
     },
     "metadata": {},
     "output_type": "display_data"
    },
    {
     "data": {
      "image/png": "[encoded data removed]",
      "text/plain": [
       "<Figure size 432x288 with 1 Axes>"
      ]
     },
     "metadata": {
      "needs_background": "light"
     },
     "output_type": "display_data"
    },
    {
     "data": {
      "text/markdown": [
       "\n",
       "**---------------Iteration4------------------**\n"
      ],
      "text/plain": [
       "<IPython.core.display.Markdown object>"
      ]
     },
     "metadata": {},
     "output_type": "display_data"
    },
    {
     "data": {
      "image/png": "[encoded data removed]",
      "text/plain": [
       "<Figure size 432x288 with 1 Axes>"
      ]
     },
     "metadata": {
      "needs_background": "light"
     },
     "output_type": "display_data"
    },
    {
     "name": "stdout",
     "output_type": "stream",
     "text": [
      "\n",
      "\n"
     ]
    }
   ],
   "source": [
    "plotPRcurve(precisions, recalls)"
   ]
  },
  {
   "cell_type": "code",
   "execution_count": 194,
   "metadata": {},
   "outputs": [
    {
     "data": {
      "text/markdown": [
       "\n",
       "**---------------Iteration 1------------------**\n"
      ],
      "text/plain": [
       "<IPython.core.display.Markdown object>"
      ]
     },
     "metadata": {},
     "output_type": "display_data"
    },
    {
     "name": "stdout",
     "output_type": "stream",
     "text": [
      "0.22017957901140706\n"
     ]
    },
    {
     "data": {
      "text/markdown": [
       "\n",
       "**---------------Iteration 2------------------**\n"
      ],
      "text/plain": [
       "<IPython.core.display.Markdown object>"
      ]
     },
     "metadata": {},
     "output_type": "display_data"
    },
    {
     "name": "stdout",
     "output_type": "stream",
     "text": [
      "0.05484878046897459\n"
     ]
    },
    {
     "data": {
      "text/markdown": [
       "\n",
       "**---------------Iteration 3------------------**\n"
      ],
      "text/plain": [
       "<IPython.core.display.Markdown object>"
      ]
     },
     "metadata": {},
     "output_type": "display_data"
    },
    {
     "name": "stdout",
     "output_type": "stream",
     "text": [
      "0.05835464447832869\n"
     ]
    },
    {
     "data": {
      "text/markdown": [
       "\n",
       "**---------------Iteration 4------------------**\n"
      ],
      "text/plain": [
       "<IPython.core.display.Markdown object>"
      ]
     },
     "metadata": {},
     "output_type": "display_data"
    },
    {
     "name": "stdout",
     "output_type": "stream",
     "text": [
      "0.05802784052837528\n"
     ]
    }
   ],
   "source": [
    "###### MAP values----------\n",
    "for j in range(n):\n",
    "    mapVal = 0\n",
    "    printmd(\"\\n**---------------Iteration \"+str(j+1)+\"------------------**\\n\")\n",
    "    for i in range(nq):\n",
    "        mapVal+=maps[i][j]\n",
    "    print(mapVal/nq)"
   ]
  },
  {
   "cell_type": "code",
   "execution_count": 133,
   "metadata": {},
   "outputs": [
    {
     "data": {
      "text/plain": [
       "6"
      ]
     },
     "execution_count": 133,
     "metadata": {},
     "output_type": "execute_result"
    }
   ],
   "source": [
    "len(tsne[0])"
   ]
  },
  {
   "cell_type": "code",
   "execution_count": 186,
   "metadata": {},
   "outputs": [],
   "source": [
    "#######----------plotting 2D TSNE curve for query vectors --------------------\n",
    "def processTsneData(queryUnique, resultDocs, groundTruthIndex):\n",
    "    relVectors = nonRelVectors = []\n",
    "    truthPath = '20_newsgroups/'+groundTruth[groundTruthIndex]\n",
    "    for doc in resultDoc:\n",
    "        folderId = doc%100\n",
    "        vector = generateDocVector(queryUnique, doc)\n",
    "        if(foldersPathList[folderId]==truthPath):\n",
    "            relVectors.append(vector)\n",
    "        else:\n",
    "            nonRelVectors.append(vector)\n",
    "    return relVectors, nonRelVectors"
   ]
  },
  {
   "cell_type": "code",
   "execution_count": 189,
   "metadata": {},
   "outputs": [
    {
     "name": "stdout",
     "output_type": "stream",
     "text": [
      "['biochemistri', 'pretti', 'machin', 'good', 'opinion']\n"
     ]
    },
    {
     "data": {
      "text/markdown": [
       "\n",
       "---------------**QUERY 1**------------------\n"
      ],
      "text/plain": [
       "<IPython.core.display.Markdown object>"
      ]
     },
     "metadata": {},
     "output_type": "display_data"
    },
    {
     "data": {
      "image/png": "[encoded data removed]",
      "text/plain": [
       "<Figure size 432x288 with 1 Axes>"
      ]
     },
     "metadata": {
      "needs_background": "light"
     },
     "output_type": "display_data"
    },
    {
     "data": {
      "image/png": "[encoded data removed]",
      "text/plain": [
       "<Figure size 432x288 with 1 Axes>"
      ]
     },
     "metadata": {
      "needs_background": "light"
     },
     "output_type": "display_data"
    },
    {
     "data": {
      "image/png": "[encoded data removed]",
      "text/plain": [
       "<Figure size 432x288 with 1 Axes>"
      ]
     },
     "metadata": {
      "needs_background": "light"
     },
     "output_type": "display_data"
    },
    {
     "data": {
      "image/png": "[encoded data removed]",
      "text/plain": [
       "<Figure size 432x288 with 1 Axes>"
      ]
     },
     "metadata": {
      "needs_background": "light"
     },
     "output_type": "display_data"
    },
    {
     "data": {
      "image/png": "[encoded data removed]",
      "text/plain": [
       "<Figure size 432x288 with 1 Axes>"
      ]
     },
     "metadata": {
      "needs_background": "light"
     },
     "output_type": "display_data"
    }
   ],
   "source": [
    "######-----------2D TSNE CURVE FOR QUERY VECTORS\n",
    "count = 0\n",
    "for key in tsne:\n",
    "    queryUnique = tsne[key][0]\n",
    "    print(queryUnique)\n",
    "    printmd(\"\\n---------------**QUERY \"+str(key+1)+\"**------------------\\n\")\n",
    "    for i,item in enumerate(tsne[key][1:]):\n",
    "        queryVector = []\n",
    "        labels = []\n",
    "        vectors = []\n",
    "        queryVector = item[0]\n",
    "#         queryVector.append(item[0])\n",
    "        relVectors, nonRelVectors = processTsneData(queryUnique, item[1], key)\n",
    "        for i,v in enumerate(relVectors):\n",
    "            vectors.append(relVectors[i])\n",
    "            labels.append(3)\n",
    "        for i,v in enumerate(nonRelVectors):\n",
    "            vectors.append(nonRelVectors[i])\n",
    "            labels.append(4)\n",
    "       \n",
    "        labels.append(5)\n",
    "\n",
    "#         vectors.append(relVectors)\n",
    "#         vectors.append(nonRelVectors)\n",
    "        vectors.append(queryVector)\n",
    "        \n",
    "        tsneData = TSNE(n_components=2).fit_transform(vectors) \n",
    "#         relTsne = TSNE(n_components=2).fit_transform(relVectors)\n",
    "#         nonRelTsne = TSNE(n_components=2).fit_transform(nonRelVectors)\n",
    "#         queryTsne = TSNE(n_components=2).fit_transform(queryVector)\n",
    "#         print(queryTsne.shape)\n",
    "        plt.figure()\n",
    "#         plt.scatter(queryTsne[:,0], queryTsne[:,1], color = 'r', s=10)\n",
    "#         plt.scatter(relTsne[:,0], relTsne[:,1], color = 'g', s=10)\n",
    "#         plt.scatter(nonRelTsne[:,0], nonRelTsne[:,1], color = 'b', s=10)\n",
    "        plt.scatter(tsneData[:,0], tsneData[:,1], c = labels, s=20, alpha=0.8, label=\"Violet-NR, blue -R\")\n",
    "        plt.show()\n",
    "       "
   ]
  },
  {
   "cell_type": "code",
   "execution_count": null,
   "metadata": {},
   "outputs": [],
   "source": []
  }
 ],
 "metadata": {
  "kernelspec": {
   "display_name": "Python 3",
   "language": "python",
   "name": "python3"
  },
  "language_info": {
   "codemirror_mode": {
    "name": "ipython",
    "version": 3
   },
   "file_extension": ".py",
   "mimetype": "text/x-python",
   "name": "python",
   "nbconvert_exporter": "python",
   "pygments_lexer": "ipython3",
   "version": "3.7.4"
  }
 },
 "nbformat": 4,
 "nbformat_minor": 2
}
