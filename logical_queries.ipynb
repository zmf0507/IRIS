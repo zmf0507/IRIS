{
 "cells": [
  {
   "cell_type": "code",
   "execution_count": 51,
   "metadata": {},
   "outputs": [],
   "source": [
    "from nltk.tokenize import RegexpTokenizer\n",
    "from nltk.tokenize import word_tokenize\n",
    "from nltk.corpus import stopwords\n",
    "from nltk.tokenize import RegexpTokenizer\n",
    "from collections import Counter\n",
    "from nltk.stem import PorterStemmer\n",
    "import pickle\n",
    "import os\n",
    "import math\n"
   ]
  },
  {
   "cell_type": "code",
   "execution_count": 57,
   "metadata": {},
   "outputs": [],
   "source": [
    "ps = PorterStemmer()"
   ]
  },
  {
   "cell_type": "code",
   "execution_count": 7,
   "metadata": {},
   "outputs": [],
   "source": [
    "def saveInPickle(data, pickleFile):\n",
    "\tfile = open(pickleFile,\"wb\")\n",
    "\tpickle.dump(data,file)\n",
    "\tfile.close()"
   ]
  },
  {
   "cell_type": "code",
   "execution_count": 8,
   "metadata": {},
   "outputs": [],
   "source": [
    "def getAllFoldersPath():\n",
    "\tfilesList=[]\n",
    "\tpath=\"20_newsgroups\"\n",
    "\tfilesList =  [x[0] for x in os.walk(path)]\n",
    "\n",
    "\treturn filesList[1:]"
   ]
  },
  {
   "cell_type": "code",
   "execution_count": 9,
   "metadata": {},
   "outputs": [
    {
     "name": "stdout",
     "output_type": "stream",
     "text": [
      "['20_newsgroups/sci.crypt', '20_newsgroups/talk.religion.misc', '20_newsgroups/comp.windows.x', '20_newsgroups/rec.autos', '20_newsgroups/rec.motorcycles', '20_newsgroups/comp.sys.ibm.pc.hardware', '20_newsgroups/rec.sport.baseball', '20_newsgroups/talk.politics.misc', '20_newsgroups/rec.sport.hockey', '20_newsgroups/comp.graphics', '20_newsgroups/sci.med', '20_newsgroups/sci.space', '20_newsgroups/soc.religion.christian', '20_newsgroups/misc.forsale', '20_newsgroups/comp.os.ms-windows.misc', '20_newsgroups/comp.sys.mac.hardware', '20_newsgroups/talk.politics.guns', '20_newsgroups/talk.politics.mideast', '20_newsgroups/alt.atheism', '20_newsgroups/sci.electronics']\n"
     ]
    }
   ],
   "source": [
    "foldersPathList = getAllFoldersPath()\n",
    "print(foldersPathList)\n",
    "docWordsDictionary = {}\n",
    "folderMap = {}"
   ]
  },
  {
   "cell_type": "code",
   "execution_count": 44,
   "metadata": {},
   "outputs": [
    {
     "data": {
      "text/plain": [
       "['20_newsgroups/sci.crypt',\n",
       " '20_newsgroups/talk.religion.misc',\n",
       " '20_newsgroups/comp.windows.x',\n",
       " '20_newsgroups/rec.autos',\n",
       " '20_newsgroups/rec.motorcycles',\n",
       " '20_newsgroups/comp.sys.ibm.pc.hardware',\n",
       " '20_newsgroups/rec.sport.baseball',\n",
       " '20_newsgroups/talk.politics.misc',\n",
       " '20_newsgroups/rec.sport.hockey',\n",
       " '20_newsgroups/comp.graphics',\n",
       " '20_newsgroups/sci.med',\n",
       " '20_newsgroups/sci.space',\n",
       " '20_newsgroups/soc.religion.christian',\n",
       " '20_newsgroups/misc.forsale',\n",
       " '20_newsgroups/comp.os.ms-windows.misc',\n",
       " '20_newsgroups/comp.sys.mac.hardware',\n",
       " '20_newsgroups/talk.politics.guns',\n",
       " '20_newsgroups/talk.politics.mideast',\n",
       " '20_newsgroups/alt.atheism',\n",
       " '20_newsgroups/sci.electronics']"
      ]
     },
     "execution_count": 44,
     "metadata": {},
     "output_type": "execute_result"
    }
   ],
   "source": [
    "foldersPathList"
   ]
  },
  {
   "cell_type": "code",
   "execution_count": 35,
   "metadata": {},
   "outputs": [],
   "source": [
    "def getAllTokens(foldersPathList):\n",
    "    count=0\n",
    "    docIdsSet = []\n",
    "    for folderCount, path in enumerate(foldersPathList):\n",
    "        for r, d, f in os.walk(path):\n",
    "            for file in f:\n",
    "                filePath = os.path.join(r, file)\n",
    "                fileReference = open(filePath, \"r\", encoding = \"ISO-8859-1\")\n",
    "                fileContent=fileReference.read()\n",
    "                fileContent = fileContent.lower()\n",
    "                tokenizer=RegexpTokenizer(r'([A-Za-z0-9]+)')\n",
    "                tokensList=tokenizer.tokenize(fileContent)\n",
    "                filteredWords = removeStopWords(tokensList)\n",
    "                docId = int(file)\n",
    "                docId = docId*100+folderCount\n",
    "                folderMap[folderCount] = r\n",
    "                docIdsSet.append(docId)\n",
    "#                 print(filteredWords)\n",
    "                count+=len(filteredWords)\n",
    "                docWordsDictionary[docId] = filteredWords\n",
    "#                 print(docWordsDictionary)\n",
    "    return docIdsSet, count"
   ]
  },
  {
   "cell_type": "code",
   "execution_count": 2,
   "metadata": {},
   "outputs": [],
   "source": [
    "\n",
    "def removeStopWords(words):\n",
    "\tfilteredWords = []\n",
    "\tstop_words=stopwords.words('english')\t\n",
    "\tfor word in words:\n",
    "\t\tif word not in stop_words:\n",
    "\t\t\tword = ps.stem(word)\n",
    "            filteredWords.append(word)\n",
    "            \n",
    "\n",
    "\treturn filteredWords"
   ]
  },
  {
   "cell_type": "code",
   "execution_count": 37,
   "metadata": {},
   "outputs": [
    {
     "name": "stdout",
     "output_type": "stream",
     "text": [
      "19997 5323865\n",
      "19997\n"
     ]
    }
   ],
   "source": [
    "dset, count = getAllTokens(foldersPathList)\n",
    "print(len(list(set(dset))), count)\n",
    "print(len(docWordsDictionary))\n"
   ]
  },
  {
   "cell_type": "code",
   "execution_count": 43,
   "metadata": {},
   "outputs": [
    {
     "name": "stdout",
     "output_type": "stream",
     "text": [
      "['xref', 'cantaloupe', 'srv', 'cs', 'cmu', 'edu', 'alt', '3d', '2141', 'comp', 'graphics', '37921', 'path', 'cantaloupe', 'srv', 'cs', 'cmu', 'edu', 'crabapple', 'srv', 'cs', 'cmu', 'edu', 'fs7', 'ece', 'cmu', 'edu', 'europa', 'eng', 'gtefsd', 'com', 'gatech', 'swrinde', 'zaphod', 'mps', 'ohio', 'state', 'edu', 'usc', 'elroy', 'jpl', 'nasa', 'gov', 'ames', 'olivea', 'uunet', 'mcsun', 'fuug', 'kiae', 'relcom', 'newsserv', 'alex', 'talus', 'msk', 'su', 'alex', 'kolesov', 'newsgroups', 'alt', '3d', 'comp', 'graphics', 'subject', 'help', 'renderman', 'language', 'wanted', 'message', 'id', '9304051103', 'aa01274', 'talus', 'msk', 'su', 'date', '5', 'apr', '93', '11', '00', '50', 'gmt', 'sender', 'news', 'service', 'newcom', 'kiae', 'su', 'reply', 'alex', 'talus', 'msk', 'su', 'organization', 'unknown', 'lines', '17', 'hello', 'everybody', 'using', 'pixar', 'renderman', '3d', 'scene', 'description', 'language', 'creating', '3d', 'worlds', 'please', 'help', 'using', 'renderman', 'library', 'next', 'documentation', 'nextstep', 'version', 'renderman', 'available', 'create', 'complicated', 'scenes', 'render', 'using', 'surface', 'shaders', 'bring', 'life', 'applying', 'shadows', 'reflections', 'far', 'understand', 'define', 'environmental', 'shadows', 'maps', 'produce', 'reflections', 'shadows', 'know', 'use', 'advises', 'simple', 'rib', 'c', 'examples', 'appreciated', 'thanks', 'advance', 'alex', 'kolesov', 'moscow', 'russia', 'talus', 'imaging', 'communications', 'corporation', 'e', 'mail', 'alex', 'talus', 'msk', 'su', 'next', 'mail', 'accepted']\n"
     ]
    }
   ],
   "source": [
    "# print(folderMap)\n",
    "print(docWordsDictionary[3792109])"
   ]
  },
  {
   "cell_type": "code",
   "execution_count": 10,
   "metadata": {},
   "outputs": [],
   "source": [
    "def loadFromPickle(pickleFile):\n",
    "\tfile = open(pickleFile,'rb')\n",
    "\tpickleData = pickle.load(file)\n",
    "\tfile.close()\n",
    "\treturn pickleData"
   ]
  },
  {
   "cell_type": "code",
   "execution_count": 46,
   "metadata": {
    "scrolled": true
   },
   "outputs": [
    {
     "name": "stdout",
     "output_type": "stream",
     "text": [
      "203791\n"
     ]
    }
   ],
   "source": [
    "saveInPickle(docWordsDictionary, \"docWords\")\n",
    "saveInPickle(dset, \"docIds\")\n",
    "wordInvertedIndex = {}\n",
    "docIdsSet = dset\n",
    "count = 0\n",
    "for docId in docWordsDictionary:\n",
    "    wordsList = docWordsDictionary[docId]\n",
    "    for word in wordsList:\n",
    "        docList = []\n",
    "        if word not in wordInvertedIndex:\n",
    "            wordInvertedIndex[word] = []\n",
    "            count+=1\n",
    "        if docId not in wordInvertedIndex[word]:    \n",
    "            wordInvertedIndex[word].append(docId)\n",
    "        wordInvertedIndex[word].sort()\n",
    "        \n",
    "#         print(word, wordInvertedIndex[word])\n",
    "print(count)      "
   ]
  },
  {
   "cell_type": "code",
   "execution_count": 49,
   "metadata": {},
   "outputs": [
    {
     "data": {
      "text/plain": [
       "203791"
      ]
     },
     "execution_count": 49,
     "metadata": {},
     "output_type": "execute_result"
    }
   ],
   "source": [
    "# saveInPickle(wordInvertedIndex, \"wordInvertedIndex\")  \n",
    "len(wordInvertedIndex)"
   ]
  },
  {
   "cell_type": "code",
   "execution_count": 11,
   "metadata": {},
   "outputs": [
    {
     "name": "stdout",
     "output_type": "stream",
     "text": [
      "19997\n"
     ]
    }
   ],
   "source": [
    "wordInvertedIndex = loadFromPickle(\"wordInvertedIndex\")\n",
    "docIds = loadFromPickle(\"docIds\")\n",
    "print(len(docIds))"
   ]
  },
  {
   "cell_type": "code",
   "execution_count": 99,
   "metadata": {},
   "outputs": [
    {
     "data": {
      "text/plain": [
       "[954414, 1014014, 5346808]"
      ]
     },
     "execution_count": 99,
     "metadata": {},
     "output_type": "execute_result"
    }
   ],
   "source": [
    "wordInvertedIndex['i']"
   ]
  },
  {
   "cell_type": "code",
   "execution_count": 1,
   "metadata": {},
   "outputs": [
    {
     "name": "stdout",
     "output_type": "stream",
     "text": [
      "enter X<matess.735934793@gsusgi1.gsu.edu>\n",
      "enter YC65pB4.A9o@news.iastate.edu\n"
     ]
    }
   ],
   "source": [
    "x = input(\"enter X\")\n",
    "y = input(\"enter Y\")"
   ]
  },
  {
   "cell_type": "code",
   "execution_count": 9,
   "metadata": {},
   "outputs": [],
   "source": [
    "def xOrYMerge(x, y):\n",
    "    comparisons = 0\n",
    "    xInvertList = wordInvertedIndex[x]\n",
    "    yInvertList = wordInvertedIndex[y]\n",
    "    xOrY = xInvertList + yInvertList\n",
    "    xOrY = list(set(xOrY))\n",
    "    return xOrY, comparisons"
   ]
  },
  {
   "cell_type": "code",
   "execution_count": 16,
   "metadata": {},
   "outputs": [],
   "source": [
    "def xAndYMerge(x, y):\n",
    "    comparisons = 0\n",
    "    xPtr = yPtr = 0\n",
    "    xAndY = []\n",
    "    xInvertList = wordInvertedIndex[x]\n",
    "    yInvertList = wordInvertedIndex[y]\n",
    "    xLen = len(xInvertList)\n",
    "    yLen = len(yInvertList)\n",
    "    while xPtr < xLen and yPtr < yLen:\n",
    "        if xInvertList[xPtr] == yInvertList[yPtr]:\n",
    "            comparisons+=1\n",
    "            xAndY.append(xInvertList[xPtr])\n",
    "            xPtr+=1\n",
    "            yPtr+=1\n",
    "        elif(xInvertList[xPtr]<yInvertList[yPtr]):\n",
    "            comparisons+=1\n",
    "            xPtr+=1\n",
    "        else:\n",
    "            yPtr+=1  \n",
    "            comparisons+=1\n",
    "    return xAndY, comparisons"
   ]
  },
  {
   "cell_type": "code",
   "execution_count": 17,
   "metadata": {},
   "outputs": [],
   "source": [
    "def xAndNotYMerge(x, y):\n",
    "    comparisons = 0\n",
    "    xPtr = yPtr = 0\n",
    "    xAndNOtY = []\n",
    "    xInvertList = wordInvertedIndex[x]\n",
    "    yInvertList = wordInvertedIndex[y]\n",
    "    xLen = len(xInvertList)\n",
    "    yLen = len(yInvertList)\n",
    "    while xPtr < xLen and yPtr < yLen:\n",
    "        if xInvertList[xPtr] == yInvertList[yPtr]:\n",
    "            comparisons+=1\n",
    "            xPtr+=1\n",
    "            yPtr+=1\n",
    "        elif(xInvertList[xPtr]<yInvertList[yPtr]):\n",
    "            comparisons+=1\n",
    "            xAndNOtY.append(xInvertList[xPtr])\n",
    "            xPtr+=1\n",
    "        else:\n",
    "            yPtr+=1  \n",
    "            comparisons+=1\n",
    "    return xAndNOtY, comparisons"
   ]
  },
  {
   "cell_type": "code",
   "execution_count": 19,
   "metadata": {},
   "outputs": [],
   "source": [
    "def xOrNotYMerge(x, y):\n",
    "    comparisons = 0\n",
    "    xPtr = yPtr = 0\n",
    "    docIdsList = loadFromPickle(\"docIds\")\n",
    "    print(len(docIdsList))\n",
    "    \n",
    "    xOrNOtY = []\n",
    "    xInvertList = wordInvertedIndex[x]\n",
    "    yInvertList = wordInvertedIndex[y]\n",
    "    NotYInvertList = [notY for notY in docIdsList if notY not in yInvertList]\n",
    "    xOrNOtY = xInvertList + NotYInvertList\n",
    "    return xOrNOtY, comparisons"
   ]
  },
  {
   "cell_type": "code",
   "execution_count": 12,
   "metadata": {},
   "outputs": [],
   "source": [
    "def getDocumentDetails(docsList):\n",
    "    count = 0\n",
    "    for doc in docsList:\n",
    "        count+=1\n",
    "        docId = int(doc/100)\n",
    "        docFolder = doc%100\n",
    "        print(foldersPathList[docFolder], docId)\n",
    "    print(count)"
   ]
  },
  {
   "cell_type": "code",
   "execution_count": 23,
   "metadata": {},
   "outputs": [],
   "source": [
    "# docsList, comparisons = xOrYMerge(x,y)\n",
    "# print(docsList)\n",
    "# docsList, comparisons = xAndYMerge(x,y)\n",
    "# getDocumentDetails(docsList)\n",
    "# print(len(docsList), comparisons)\n",
    "# docsList, comparisons = xAndNotYMerge(x,y)\n",
    "# print(docsList, comparisons)\n",
    "# docsList, comparisons = xOrNotYMerge(x,y)\n",
    "# print(len(list(set(docsList))))"
   ]
  },
  {
   "cell_type": "code",
   "execution_count": 33,
   "metadata": {},
   "outputs": [
    {
     "data": {
      "text/plain": [
       "['hello', 'and', 'like']"
      ]
     },
     "execution_count": 33,
     "metadata": {},
     "output_type": "execute_result"
    }
   ],
   "source": [
    "query"
   ]
  },
  {
   "cell_type": "code",
   "execution_count": 27,
   "metadata": {},
   "outputs": [],
   "source": [
    "def intersectPosting(x, y):\n",
    "    comparisons = 0\n",
    "    xPtr = yPtr = 0\n",
    "    xAndY = []\n",
    "    x.sort()\n",
    "    y.sort()\n",
    "    xLen = len(x)\n",
    "    yLen = len(y)\n",
    "#     print(xLen, yLen)\n",
    "    while xPtr < xLen and yPtr < yLen:\n",
    "        if x[xPtr] == y[yPtr]:\n",
    "            comparisons+=1\n",
    "            xAndY.append(x[xPtr])\n",
    "            xPtr+=1\n",
    "            yPtr+=1\n",
    "        elif(x[xPtr]<y[yPtr]):\n",
    "            comparisons+=1\n",
    "            xPtr+=1\n",
    "        else:\n",
    "            yPtr+=1  \n",
    "            comparisons+=1\n",
    "    return xAndY, comparisons"
   ]
  },
  {
   "cell_type": "code",
   "execution_count": 28,
   "metadata": {},
   "outputs": [],
   "source": [
    "def unionPosting(orStack):\n",
    "    result = []\n",
    "    for posting in orStack:\n",
    "        result = result+posting\n",
    "    result = list(set(result))\n",
    "    return result\n",
    "    "
   ]
  },
  {
   "cell_type": "code",
   "execution_count": 15,
   "metadata": {},
   "outputs": [],
   "source": [
    "def generateAndPosting(andStack):\n",
    "    andStack.sort(key = len)\n",
    "    andPosting = andStack[0]\n",
    "    comparisons = 0\n",
    "    for i in range(1,len(andStack)):\n",
    "        andPosting, comp = intersectPosting(andPosting, andStack[i])\n",
    "        comparisons+=comp\n",
    "    return andPosting, comparisons    "
   ]
  },
  {
   "cell_type": "code",
   "execution_count": 100,
   "metadata": {},
   "outputs": [
    {
     "name": "stdout",
     "output_type": "stream",
     "text": [
      "state and visualizations and functions\n",
      "['state', 'and', 'visualizations', 'and', 'functions']\n"
     ]
    }
   ],
   "source": [
    "# prevInput=\n",
    "# currentIput\n",
    "opList = [\"and\", \"or\", \"not\"]\n",
    "# query = input(\"enter the Boolean query\")\n",
    "query = []\n",
    "inp = \"\"\n",
    "# while inp != \" \":\n",
    "#     inp = input(\"\")\n",
    "#     inp = inp.lower()\n",
    "#     if inp!= \" \":\n",
    "#         query.append(inp)\n",
    "    \n",
    "query = input()\n",
    "query = query.split()\n",
    "print(query)\n",
    "#  and not counter and not fatwa or moscow and russia\n"
   ]
  },
  {
   "cell_type": "code",
   "execution_count": 101,
   "metadata": {},
   "outputs": [],
   "source": [
    "globalPostingList = []\n",
    "modifiedQuery = []\n",
    "operators=[]\n",
    "words = []\n",
    "i = 0\n",
    "qLen = len(query)\n",
    "while(i<qLen):\n",
    "    if query[i] == \"not\":\n",
    "        print(query[i+1])\n",
    "        invertList = wordInvertedIndex[str(ps.stem(query[i+1]))]\n",
    "#         print(invertList)\n",
    "        NotInvertList = [notY for notY in docIds if notY not in invertList]\n",
    "#         print(NotInvertList)\n",
    "        modifiedQuery.append(NotInvertList)\n",
    "        i+=2\n",
    "    elif query[i] in [\"and\", \"or\"]:\n",
    "        modifiedQuery.append(query[i])\n",
    "        i+=1\n",
    "    else :\n",
    "#         print(query[i])\n",
    "        invertList = wordInvertedIndex[str(ps.stem(query[i]))]\n",
    "        modifiedQuery.append(invertList)\n",
    "        i+=1\n",
    "        \n",
    "# print(modifiedQuery[0])        "
   ]
  },
  {
   "cell_type": "code",
   "execution_count": 102,
   "metadata": {},
   "outputs": [],
   "source": [
    "# print(modifiedQuery)\n",
    "andStack = []\n",
    "orStack = []\n",
    "comparisons = 0\n",
    "for i in range(0,len(modifiedQuery)):\n",
    "#     print(modifiedQuery[i])\n",
    "    if(i==0):\n",
    "        if modifiedQuery[i+1]==\"or\":\n",
    "            orStack.append(modifiedQuery[i])\n",
    "#             print(\"1\")\n",
    "#             print(orStack)\n",
    "    elif modifiedQuery[i]==\"or\":\n",
    "        if len(andStack) > 0:\n",
    "            posting, comp = generateAndPosting(andStack)\n",
    "            comparisons+=comp\n",
    "            orStack.append(posting)\n",
    "            andStack = []\n",
    "#             print(\"2\")\n",
    "        if i == len(modifiedQuery)-2:\n",
    "            orStack.append(modifiedQuery[i+1])\n",
    "#             print(\"3\")\n",
    "        elif (modifiedQuery[i+2]==\"or\"):\n",
    "            orStack.append(modifiedQuery[i+1])\n",
    "#             print(\"4\")\n",
    "    elif modifiedQuery[i]==\"and\":\n",
    "        if(len(andStack) == 0):\n",
    "            andStack.append(modifiedQuery[i-1])\n",
    "        andStack.append(modifiedQuery[i+1])\n",
    "#         print(\"5\")\n",
    "        \n",
    "if(len(andStack) > 0):\n",
    "#     print(\"6\")\n",
    "    posting, comp = generateAndPosting(andStack)\n",
    "#     print(set(andStack[0])&set(andStack[1]))\n",
    "    comparisons+=comp\n",
    "    orStack.append(posting)   "
   ]
  },
  {
   "cell_type": "code",
   "execution_count": 103,
   "metadata": {},
   "outputs": [
    {
     "name": "stdout",
     "output_type": "stream",
     "text": [
      "20_newsgroups/talk.politics.guns 54684\n",
      "20_newsgroups/comp.graphics 37920\n",
      "20_newsgroups/comp.windows.x 66322\n",
      "20_newsgroups/sci.crypt 16123\n",
      "20_newsgroups/comp.graphics 38377\n",
      "20_newsgroups/comp.graphics 38537\n",
      "20_newsgroups/talk.religion.misc 83693\n",
      "20_newsgroups/sci.space 61435\n",
      "20_newsgroups/comp.graphics 38852\n",
      "20_newsgroups/sci.med 58052\n",
      "20_newsgroups/comp.graphics 39638\n",
      "20_newsgroups/comp.graphics 37919\n",
      "20_newsgroups/comp.graphics 38376\n",
      "20_newsgroups/comp.graphics 38778\n",
      "20_newsgroups/comp.windows.x 68012\n",
      "20_newsgroups/comp.graphics 38403\n",
      "20_newsgroups/comp.graphics 38851\n",
      "20_newsgroups/comp.windows.x 66430\n",
      "20_newsgroups/comp.graphics 38933\n",
      "20_newsgroups/comp.os.ms-windows.misc 9877\n",
      "20_newsgroups/comp.graphics 38375\n",
      "20_newsgroups/comp.os.ms-windows.misc 10206\n",
      "20_newsgroups/comp.windows.x 66429\n",
      "20_newsgroups/comp.os.ms-windows.misc 10603\n",
      "20_newsgroups/comp.sys.mac.hardware 51892\n",
      "20_newsgroups/comp.graphics 39078\n",
      "20_newsgroups/alt.atheism 53300\n",
      "20_newsgroups/comp.windows.x 66424\n",
      "20_newsgroups/comp.windows.x 66433\n",
      "20_newsgroups/rec.motorcycles 104513\n",
      "20_newsgroups/comp.graphics 38853\n",
      "20_newsgroups/sci.med 58053\n",
      "32\n",
      "total minimum comparisons 9766\n"
     ]
    }
   ],
   "source": [
    "getDocumentDetails(unionPosting(orStack))\n",
    "print(\"total minimum comparisons\", comparisons)"
   ]
  },
  {
   "cell_type": "code",
   "execution_count": null,
   "metadata": {},
   "outputs": [],
   "source": []
  }
 ],
 "metadata": {
  "kernelspec": {
   "display_name": "Python 3",
   "language": "python",
   "name": "python3"
  },
  "language_info": {
   "codemirror_mode": {
    "name": "ipython",
    "version": 3
   },
   "file_extension": ".py",
   "mimetype": "text/x-python",
   "name": "python",
   "nbconvert_exporter": "python",
   "pygments_lexer": "ipython3",
   "version": "3.5.2"
  },
  "widgets": {
   "application/vnd.jupyter.widget-state+json": {
    "state": {},
    "version_major": 2,
    "version_minor": 0
   }
  }
 },
 "nbformat": 4,
 "nbformat_minor": 2
}
